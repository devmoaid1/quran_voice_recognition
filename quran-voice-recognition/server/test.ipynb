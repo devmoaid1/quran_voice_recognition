{
 "cells": [
  {
   "cell_type": "code",
   "execution_count": 1,
   "metadata": {},
   "outputs": [
    {
     "name": "stdout",
     "output_type": "stream",
     "text": [
      "Processing complete! The output has been saved to 'output_file.txt'.\n"
     ]
    }
   ],
   "source": [
    "# Open the input file in read mode and output file in write mode\n",
    "with open(\"verses.txt\", \"r\", encoding=\"utf-8\") as input_file:\n",
    "    verses = input_file.read()\n",
    "\n",
    "# Split the content into individual words\n",
    "words = [word for word in verses.split() if word]\n",
    "\n",
    "# Write each word into a new line in the output file\n",
    "with open(\"words_ama.txt\", \"w\", encoding=\"utf-8\") as output_file:\n",
    "    output_file.write(\"\\n\".join(words))\n",
    "\n",
    "print(\"Processing complete! The output has been saved to 'output_file.txt'.\")\n"
   ]
  }
 ],
 "metadata": {
  "kernelspec": {
   "display_name": "tf2.4",
   "language": "python",
   "name": "python3"
  },
  "language_info": {
   "codemirror_mode": {
    "name": "ipython",
    "version": 3
   },
   "file_extension": ".py",
   "mimetype": "text/x-python",
   "name": "python",
   "nbconvert_exporter": "python",
   "pygments_lexer": "ipython3",
   "version": "3.10.0"
  }
 },
 "nbformat": 4,
 "nbformat_minor": 2
}
