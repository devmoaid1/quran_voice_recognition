{
 "cells": [
  {
   "cell_type": "code",
   "execution_count": 1,
   "metadata": {},
   "outputs": [
    {
     "name": "stdout",
     "output_type": "stream",
     "text": [
      "Transcriptions have been saved to verses.txt\n"
     ]
    }
   ],
   "source": [
    "import pandas as pd\n",
    "\n",
    "# Load the Excel file\n",
    "file_path = '/path/to/your/excel_file.xlsx'  # Replace with the path to your file\n",
    "df = pd.read_excel('train_test_ama.xlsx', sheet_name='Train')  # Assuming the data is in the 'Train' sheet\n",
    "\n",
    "# Extract the 'Transcript' column\n",
    "transcriptions = df['Transcript'].dropna()  # Remove any NaN values\n",
    "\n",
    "# Save the transcriptions to a text file\n",
    "output_file = 'verses.txt'  # The text file you want to save to\n",
    "with open(output_file, 'w', encoding='utf-8') as f:\n",
    "    for verse in transcriptions:\n",
    "        f.write(verse + '\\n')\n",
    "\n",
    "print(f\"Transcriptions have been saved to {output_file}\")\n"
   ]
  }
 ],
 "metadata": {
  "kernelspec": {
   "display_name": "tf2.4",
   "language": "python",
   "name": "python3"
  },
  "language_info": {
   "codemirror_mode": {
    "name": "ipython",
    "version": 3
   },
   "file_extension": ".py",
   "mimetype": "text/x-python",
   "name": "python",
   "nbconvert_exporter": "python",
   "pygments_lexer": "ipython3",
   "version": "3.10.0"
  }
 },
 "nbformat": 4,
 "nbformat_minor": 2
}
